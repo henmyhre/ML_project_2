{
 "cells": [
  {
   "cell_type": "code",
   "execution_count": 2,
   "metadata": {},
   "outputs": [],
   "source": [
    "from Bio import SeqIO\n",
    "from src.CONSTS import * \n",
    "from src.utils.utils import *\n",
    "import time\n",
    "import pandas as pd\n",
    "import tqdm\n",
    "import numpy as np\n",
    "from src.utils.preprocessing import *\n",
    "\n",
    "input_file = \"data/train_test_data.csv\"\n",
    "\n",
    "if (len(BINARY_ENCODING) == 0) or (len(PROTEIN_ENCODING) == 0):  \n",
    "    # Create dictionaries for encoding proteins\n",
    "    create_encoding_dictionaries()\n",
    "    \n",
    "    \n"
   ]
  },
  {
   "cell_type": "code",
   "execution_count": 32,
   "metadata": {
    "scrolled": true
   },
   "outputs": [
    {
     "name": "stdout",
     "output_type": "stream",
     "text": [
      "At row 100\n",
      "At row 200\n"
     ]
    }
   ],
   "source": [
    "df = pd.read_csv(input_file, sep=\";\", names = [\"names\", \"start_seq\", \"end_seq\", \"label\"])\n",
    "list_to_save = {\"names\": df[\"names\"].to_list(), \"seq_encoded\": list(), \"label\": df[\"label\"].to_list()}\n",
    "df.drop(\"names\", axis = 1)\n",
    "df.drop(\"label\", axis = 1)\n",
    "start_seq = df[\"start_seq\"].to_list()\n",
    "end_seq = df[\"start_seq\"].to_list()\n",
    "del df\n",
    "i = 0\n",
    "while start_seq:\n",
    "    i += 1\n",
    "    start_encoded = seq_into_binary(start_seq[0])\n",
    "    del start_seq[0]\n",
    "    end_encoded = seq_into_binary(end_seq[0])\n",
    "    del end_seq[0]\n",
    "    list_to_save[\"seq_encoded\"].append(add_binary_sequences(start_encoded, end_encoded).tolist())\n",
    "    if i and i % 100 == 0:\n",
    "        print(\"At row\", i)\n",
    "    if i == 200: break\n",
    "del start_seq\n",
    "del end_seq"
   ]
  },
  {
   "cell_type": "code",
   "execution_count": 34,
   "metadata": {},
   "outputs": [],
   "source": [
    "import json\n",
    "with open('data/encoded.json', 'w') as fp:\n",
    "    json.dump(list_to_save, fp)"
   ]
  }
 ],
 "metadata": {
  "kernelspec": {
   "display_name": "Python 3",
   "language": "python",
   "name": "python3"
  },
  "language_info": {
   "codemirror_mode": {
    "name": "ipython",
    "version": 3
   },
   "file_extension": ".py",
   "mimetype": "text/x-python",
   "name": "python",
   "nbconvert_exporter": "python",
   "pygments_lexer": "ipython3",
   "version": "3.7.6"
  }
 },
 "nbformat": 4,
 "nbformat_minor": 4
}
